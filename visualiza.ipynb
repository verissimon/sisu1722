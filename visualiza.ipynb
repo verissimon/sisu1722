{
 "cells": [
  {
   "cell_type": "code",
   "execution_count": null,
   "metadata": {},
   "outputs": [],
   "source": [
    "import pandas as pd\n",
    "from db.settings import PgConnector\n",
    "\n",
    "\n",
    "query = \"\"\"\n",
    "SELECT \"CODIGO_CURSO\", \"NOME_CURSO\", \"SIGLA_IES\", \"MUNICIPIO_CAMPUS\", count(*) as \"INSCRITOS\"\n",
    "\tFROM regular_2022\n",
    "\twhere \"EDICAO\" = 1 and \"SIGLA_IES\" = 'IFPB'\n",
    "\tgroup by \"CODIGO_CURSO\", \"NOME_CURSO\", \"SIGLA_IES\", \"MUNICIPIO_CAMPUS\"\n",
    "order by \"INSCRITOS\" desc\n",
    "\"\"\"\n",
    "df = pd.read_sql_query(query, PgConnector().engine)\n",
    "\n",
    "# SELECT \"CODIGO_CURSO\", \"NOME_CURSO\", \"TIPO_MOD_CONCORRENCIA\", \"QT_VAGAS_CONCORRENCIA\",\n",
    "# \t\"EDICAO\", count(*) as \"INSCRITOS\"\n",
    "# \tFROM regular_2022\n",
    "# \twhere \"EDICAO\" = 1\n",
    "# \tgroup by \"CODIGO_CURSO\", \"NOME_CURSO\", \"TIPO_MOD_CONCORRENCIA\", \"QT_VAGAS_CONCORRENCIA\", \"EDICAO\"\n",
    "# order by \"INSCRITOS\" desc\n"
   ]
  },
  {
   "cell_type": "code",
   "execution_count": null,
   "metadata": {},
   "outputs": [],
   "source": [
    "import pandas as pd\n",
    "from db.settings import PgConnector\n",
    "\n",
    "\n",
    "query = \"\"\"\n",
    "select \"NOME_CURSO\", \"EDICAO\", count(*) as \"INSCRITOS\"\n",
    "\tfrom regular_2022\n",
    "\tgroup by \"NOME_CURSO\", \"EDICAO\"\n",
    "order by \"INSCRITOS\" desc\n",
    "\"\"\"\n",
    "df = pd.read_sql_query(query, PgConnector().engine)\n",
    "display(df.head(15))"
   ]
  },
  {
   "cell_type": "markdown",
   "metadata": {},
   "source": [
    "QUANTIDADE INSCRICOES POR CURSO_NOME POR ANO\n"
   ]
  },
  {
   "cell_type": "code",
   "execution_count": null,
   "metadata": {},
   "outputs": [],
   "source": [
    "import pandas as pd\n",
    "from db.settings import PgConnector\n",
    "\n",
    "\n",
    "nome_tabela = \"inscricoes_por_curso\"\n",
    "\n",
    "anos_tabelas = [\n",
    "    \"chamada_regular_2017_1\",\n",
    "    \"chamada_regular_2018_1\",\n",
    "    \"chamada_regular_2019_1\",\n",
    "    \"chamada_regular_2020_1\",\n",
    "    \"chamada_regular_2021_1\",\n",
    "    \"chamada_regular_2022_1\",\n",
    "]\n",
    "df = pd.DataFrame()\n",
    "# acredito que faz mais sentido analisar o primeiro semestre nesse caso\n",
    "# o segundo semestre sempre tem menos inscrições\n",
    "for ano in anos_tabelas:\n",
    "    query = \"\"\"\n",
    "        SELECT \"NOME_CURSO\", \"ANO\", count(*) as \"QTD_INSCRICOES\"\n",
    "        from {table}\n",
    "        group by \"NOME_CURSO\", \"ANO\"\n",
    "        \"\"\".format(\n",
    "        table=ano\n",
    "    )\n",
    "\n",
    "    df_ano = pd.read_sql_query(\n",
    "        query,\n",
    "        PgConnector().engine,\n",
    "    )\n",
    "    df = pd.concat([df, df_ano])\n",
    "\n",
    "display(df.head(15))"
   ]
  },
  {
   "cell_type": "markdown",
   "metadata": {},
   "source": [
    "QUANTIDADE DE INSCRITOS POR ANO\n"
   ]
  },
  {
   "cell_type": "code",
   "execution_count": null,
   "metadata": {},
   "outputs": [],
   "source": [
    "import pandas as pd\n",
    "from db.settings import PgConnector\n",
    "\n",
    "\n",
    "nome_tabela = \"inscritos_por_ano\"\n",
    "\n",
    "tabelas = [\n",
    "    \"regular_2017\",\n",
    "    \"regular_2018\",\n",
    "    \"regular_2019\",\n",
    "    \"regular_2020\",\n",
    "    \"regular_2021\",\n",
    "    \"regular_2022\",\n",
    "]\n",
    "df = pd.DataFrame()\n",
    "for tabela in tabelas:\n",
    "    query = \"\"\"\n",
    "        select \"ANO\", count(*) as \"INSCRITOS\" \n",
    "\t    from (\n",
    "\t\tselect distinct on \n",
    "\t\t\t(\"INSCRITO\", \"INSCRICAO_ENEM\", \"DATA_NASCIMENTO\") \"ANO\"\n",
    "\t\tfrom {table})\n",
    "\t    group by \"ANO\"\n",
    "        \"\"\".format(\n",
    "        table=tabela\n",
    "    )\n",
    "\n",
    "    df_tabela = pd.read_sql_query(\n",
    "        query,\n",
    "        PgConnector().engine,\n",
    "    )\n",
    "    df = pd.concat([df, df_tabela])"
   ]
  },
  {
   "cell_type": "markdown",
   "metadata": {},
   "source": [
    "### QUANTIDADE DE INSCRITOS POR CURSO ESPECÍFICO POR ANO\n",
    "\n",
    "considerando inscrições para primeira opção"
   ]
  },
  {
   "cell_type": "code",
   "execution_count": null,
   "metadata": {},
   "outputs": [],
   "source": [
    "import pandas as pd\n",
    "from db.settings import PgConnector\n",
    "\n",
    "\n",
    "nome_tabela = \"inscritos_curso_especifico_etapa1\"\n",
    "tabelas = [\n",
    "    \"chamada_regular_2017_1\",\n",
    "    \"chamada_regular_2018_1\",\n",
    "    \"chamada_regular_2019_1\",\n",
    "    \"chamada_regular_2020_1\",\n",
    "    \"chamada_regular_2021_1\",\n",
    "    \"chamada_regular_2022_1\",\n",
    "]\n",
    "df = pd.DataFrame()\n",
    "for tabela in tabelas:\n",
    "    query = \"\"\"\n",
    "    SELECT \"ANO\", \"NOME_CURSO\", \"NOME_IES\", \"NOME_CAMPUS\",\n",
    "        count(*) as \"INSCRITOS\"\n",
    "    FROM {tabela}\n",
    "    WHERE \"OPCAO\" = 1\n",
    "    group by \"ANO\", \"NOME_CURSO\", \"CODIGO_CURSO\",\n",
    "        \"CODIGO_IES\", \"NOME_IES\",\n",
    "        \"CODIGO_CAMPUS\", \"NOME_CAMPUS\"\n",
    "    \"\"\".format(\n",
    "        tabela=tabela\n",
    "    )\n",
    "\n",
    "    df_tabela = pd.read_sql_query(\n",
    "        query,\n",
    "        PgConnector().engine,\n",
    "    )\n",
    "    df = pd.concat([df, df_tabela])\n",
    "# query anterior, invalida. não combina NOME_IES e NOME_CAMPUS\n",
    "# select \"ANO\", \"CODIGO_CURSO\", \"NOME_CURSO\",  count(*) as \"INSCRITOS\"\n",
    "#     from (\n",
    "#     select distinct on\n",
    "#         (\"INSCRITO\", \"INSCRICAO_ENEM\", \"DATA_NASCIMENTO\", \"CODIGO_CURSO\")\n",
    "#         \"ANO\", \"CODIGO_CURSO\", \"NOME_CURSO\"\n",
    "#         from {tabela}\n",
    "#         )\n",
    "#     group by \"ANO\", \"CODIGO_CURSO\", \"NOME_CURSO\""
   ]
  },
  {
   "cell_type": "code",
   "execution_count": null,
   "metadata": {},
   "outputs": [],
   "source": [
    "display(df.sort_values(by=\"INSCRITOS\", ascending=False).head(10))"
   ]
  },
  {
   "cell_type": "markdown",
   "metadata": {},
   "source": [
    "Salva dados processados em formato .csv e no banco "
   ]
  },
  {
   "cell_type": "code",
   "execution_count": null,
   "metadata": {},
   "outputs": [],
   "source": [
    "import pandas as pd\n",
    "from db.settings import PgConnector\n",
    "import pathlib\n",
    "\n",
    "PATH = pathlib.Path(\".\")\n",
    "csv_filename = f\"{nome_tabela}.csv\"\n",
    "view_path = PATH / \"transformado\" / \"views\" / csv_filename\n",
    "try:\n",
    "    df.to_sql(con=PgConnector().engine, name=nome_tabela, if_exists=\"replace\", index=False)\n",
    "    df.to_csv(\n",
    "        view_path,\n",
    "        index=False,\n",
    "        sep=\"|\",\n",
    "        encoding=\"utf-8\",\n",
    "    )\n",
    "    \n",
    "except Exception as e:\n",
    "    print(e)"
   ]
  },
  {
   "cell_type": "markdown",
   "metadata": {},
   "source": [
    "visualizando dados com matplotlib"
   ]
  },
  {
   "cell_type": "code",
   "execution_count": null,
   "metadata": {},
   "outputs": [],
   "source": [
    "import matplotlib.pyplot as plt\n",
    "import pandas as pd\n",
    "from db.settings import PgConnector\n",
    "\n",
    "\n",
    "df = pd.read_sql_table(\"inscritos_por_ano\", PgConnector().engine)\n",
    "# display(df.head(15))\n",
    "\n",
    "df.plot(x='ANO', y='INSCRITOS', kind='bar')\n",
    "plt.xlabel('ANO')\n",
    "plt.ylabel('INSCRITOS')\n",
    "plt.title('Numero de inscritos por ano')\n",
    "plt.show()"
   ]
  },
  {
   "cell_type": "markdown",
   "metadata": {},
   "source": [
    "### Quantidade de inscritos por região"
   ]
  },
  {
   "cell_type": "code",
   "execution_count": 1,
   "metadata": {},
   "outputs": [],
   "source": [
    "import pandas as pd\n",
    "from db.settings import PgConnector\n",
    "\n",
    "\n",
    "nome_tabela = \"inscritos_regiao_quantidade\"\n",
    "tabelas = [\n",
    "    \"regular_2017_1_com_regiao\",\n",
    "    \"regular_2018_1_com_regiao\",\n",
    "    \"regular_2019_1_com_regiao\",\n",
    "    \"regular_2020_1_com_regiao\",\n",
    "    \"regular_2021_1_com_regiao\",\n",
    "    \"regular_2022_1_com_regiao\",\n",
    "]\n",
    "df = pd.DataFrame()\n",
    "connector = PgConnector()\n"
   ]
  },
  {
   "cell_type": "code",
   "execution_count": null,
   "metadata": {},
   "outputs": [],
   "source": [
    "for tabela in tabelas:\n",
    "    query = \"\"\"\n",
    "    select \"ANO\", \"REGIAO_IES\", count(*) as inscricoes \n",
    "\tfrom {tabela}\n",
    "\t-- where \"OPCAO\" = 1\n",
    "\tgroup by \"ANO\", \"REGIAO_IES\"\n",
    "    \"\"\".format(\n",
    "        tabela=tabela\n",
    "    )\n",
    "\n",
    "    df_tabela = pd.read_sql_query(\n",
    "        query,\n",
    "        connector.engine,\n",
    "    )\n",
    "    df = pd.concat([df, df_tabela])"
   ]
  },
  {
   "cell_type": "code",
   "execution_count": null,
   "metadata": {},
   "outputs": [],
   "source": [
    "import pathlib\n",
    "\n",
    "\n",
    "PATH = pathlib.Path(\".\")\n",
    "csv_filename = f\"{nome_tabela}.csv\"\n",
    "view_path = PATH / \"transformado\" / \"views\" / csv_filename\n",
    "print(csv_filename, view_path)\n",
    "\n",
    "df.to_sql(con=connector.engine, name=nome_tabela, if_exists=\"fail\", index=False)\n",
    "\n",
    "# df.to_csv(\n",
    "#     view_path,\n",
    "#     index=False,\n",
    "#     sep=\"|\",\n",
    "#     encoding=\"utf-8\",\n",
    "# )"
   ]
  },
  {
   "cell_type": "code",
   "execution_count": null,
   "metadata": {},
   "outputs": [],
   "source": [
    "df = pd.read_sql_table(\"inscritos_por_ano\", PgConnector().engine)\n"
   ]
  }
 ],
 "metadata": {
  "kernelspec": {
   "display_name": ".venv",
   "language": "python",
   "name": "python3"
  },
  "language_info": {
   "codemirror_mode": {
    "name": "ipython",
    "version": 3
   },
   "file_extension": ".py",
   "mimetype": "text/x-python",
   "name": "python",
   "nbconvert_exporter": "python",
   "pygments_lexer": "ipython3",
   "version": "3.10.12"
  }
 },
 "nbformat": 4,
 "nbformat_minor": 2
}
