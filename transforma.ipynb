{
  "cells": [
    {
      "cell_type": "code",
      "execution_count": null,
      "metadata": {
        "id": "tT1NhQz-joEc"
      },
      "outputs": [],
      "source": [
        "import pandas as pd\n",
        "from notebooks.extract import extract_csv\n",
        "etapa = \"chamada_regular\"\n",
        "# etapa = \"lista_de_espera\"\n",
        "ano = 2017\n",
        "semestre = 2\n",
        "arquivo_nome = f\"{etapa}_sisu_{ano}_{semestre}\"\n",
        "arquivo_path = f'./sisu/{ano}/{arquivo_nome}.csv'\n",
        "transformado_path = f'./transformado/{ano}/{arquivo_nome}.csv'\n",
        "nome_tabela = arquivo_nome.replace('sisu_', '').replace('de_', '')\n",
        "print(nome_tabela, \"PATH ALVO: \",transformado_path)\n"
      ]
    },
    {
      "cell_type": "markdown",
      "metadata": {
        "id": "j7e07aIyyBmX"
      },
      "source": [
        "[Dicionário de dados](https://dadosabertos.mec.gov.br/sisu/item/133-dicionario-de-dados)\n",
        "para dataframes recentes.\n"
      ]
    },
    {
      "cell_type": "code",
      "execution_count": null,
      "metadata": {
        "colab": {
          "base_uri": "https://localhost:8080/"
        },
        "id": "qmxrgatgisbv",
        "outputId": "e84dc478-b729-40cd-ab9c-2f09d9dd3687"
      },
      "outputs": [],
      "source": [
        "# dataframe de referencia, leve e com colunas padronizadas:\n",
        "df_ref = pd.read_csv(\n",
        "    \"./reduzido/2022/reduzido_chamada_regular_sisu_2022_2.csv\",\n",
        "    sep=\"|\",\n",
        "    encoding=\"utf-8\",\n",
        ")\n"
      ]
    },
    {
      "cell_type": "code",
      "execution_count": null,
      "metadata": {
        "colab": {
          "base_uri": "https://localhost:8080/"
        },
        "id": "k8_QtSNYy2RD",
        "outputId": "37fa5be5-6381-4b88-9e0a-5b5aa72d2d78"
      },
      "outputs": [],
      "source": [
        "df_alvo = extract_csv(ano, etapa, semestre)\n",
        "df_alvo.shape"
      ]
    },
    {
      "cell_type": "code",
      "execution_count": null,
      "metadata": {},
      "outputs": [],
      "source": [
        "# renomeia colunas\n",
        "new_columns = {col: col.replace(\"NU_\", \"\") for col in df_alvo.columns if \"NU_\" in col}\n",
        "sg__columns = {col: col.replace(\"SG_\", \"\") for col in df_alvo.columns if \"SG_\" in col}\n",
        "st__columns = {col: col.replace(\"ST_\", \"\") for col in df_alvo.columns if \"ST_\" in col}\n",
        "no__columns = {\n",
        "    col: col.replace(\"NO_\", \"NOME_\") for col in df_alvo.columns if \"NO_\" in col\n",
        "}\n",
        "ind_columns = {\n",
        "    \"DT_NASCIMENTO\": \"DATA_NASCIMENTO\",\n",
        "    \"TP_SEXO\": \"SEXO\",\n",
        "    \"TP_MOD_CONCORRENCIA\": \"TIPO_MOD_CONCORRENCIA\",\n",
        "    \"CO_ETAPA\": \"ETAPA\",\n",
        "    \"CAMPUS\": \"NOME_CAMPUS\",\n",
        "    \"CO_CAMPUS\": \"CODIGO_CAMPUS\",\n",
        "    \"CO_IES\": \"CODIGO_IES\",\n",
        "    \"IES\": \"NOME_IES\",\n",
        "    \"CURSO\": \"NOME_CURSO\",\n",
        "    \"CO_IES_CURSO\": \"CODIGO_CURSO\",\n",
        "    \"CO_INSCRICAO_ENEM\": \"INSCRICAO_ENEM\",\n",
        "    \"DS_GRAU\": \"GRAU\",\n",
        "    \"DS_TURNO\": \"TURNO\",\n",
        "    \"DS_MOD_CONCORRENCIA\": \"MOD_CONCORRENCIA\",\n",
        "}\n",
        "\n",
        "l_cols = {\n",
        "    \"NOTACORTE\": \"NOTA_CORTE\",\n",
        "    \"NOME_MUNUCIPIO_CAMPUS\": \"MUNICIPIO_CAMPUS\",\n",
        "    \"NOME_INSCRITO\": \"INSCRITO\",\n",
        "}\n",
        "\n",
        "new_columns.update(sg__columns)\n",
        "new_columns.update(st__columns)\n",
        "new_columns.update(no__columns)\n",
        "new_columns.update(ind_columns)\n",
        "\n",
        "df_alvo = df_alvo.rename(columns=new_columns).copy()\n",
        "df_alvo = df_alvo.rename(columns=l_cols).copy()\n",
        "df_alvo['CLASSIFICACAO'] = df_alvo['CLASSIFICACAO'].fillna(0).astype(float).astype(int)"
      ]
    },
    {
      "cell_type": "code",
      "execution_count": null,
      "metadata": {
        "colab": {
          "base_uri": "https://localhost:8080/"
        },
        "id": "2nHZP7Cv0RwP",
        "outputId": "4cdd6690-cf68-42e5-cc83-17a21e593d6c"
      },
      "outputs": [],
      "source": [
        "# remover colunas diferentes\n",
        "try:\n",
        "    df_ref = df_ref.copy().drop(\n",
        "        [\"DS_PERIODICIDADE\", \"QT_VAGAS_CONCORRENCIA\", \"TP_COTA\", \"PERCENTUAL_BONUS\"],\n",
        "        axis=1,\n",
        "    )\n",
        "except KeyError:\n",
        "    print(\"colunas não encontradas\")\n",
        "    \n",
        "try:\n",
        "    df_alvo = df_alvo.copy().drop([\"PERCENTUAL_BONUS\"], axis=1)\n",
        "except KeyError:\n",
        "    print(\"colunas não encontradas\")\n",
        "    \n",
        "try:\n",
        "    df_alvo = df_alvo.copy().drop(\n",
        "        [\"DS_PERIODICIDADE\", \"QT_VAGAS_CONCORRENCIA\", \"TP_COTA\"], axis=1\n",
        "    )\n",
        "except KeyError:\n",
        "    print(\"colunas não encontradas\")\n",
        "\n",
        "print(df_alvo.columns)\n",
        "print(df_ref.columns)\n",
        "# colunas diferentes\n",
        "print(\"shape df_alvo:\", df_alvo.shape)  # 53\n",
        "print(\"shape df_ref:\", df_ref.shape)  # 56\n",
        "# colunas a mais: DS_PERIODICIDADE, TP_COTA, QT_VAGAS_CONCORRENCIA"
      ]
    },
    {
      "cell_type": "code",
      "execution_count": null,
      "metadata": {
        "colab": {
          "base_uri": "https://localhost:8080/",
          "height": 143
        },
        "id": "DayfBAso4DV-",
        "outputId": "56db961f-c75a-44bc-b543-aeb13f5ce979"
      },
      "outputs": [],
      "source": [
        "# verificar se ainda há colunas com nomes diferentes\n",
        "columns_df1 = set(df_alvo.columns)\n",
        "columns_df2 = set(df_ref.columns)\n",
        "\n",
        "columns_only_in_df1 = sorted(list(columns_df1 - columns_df2))\n",
        "\n",
        "columns_only_in_df2 = sorted(list(columns_df2 - columns_df1))\n",
        "\n",
        "max_len = max(len(columns_only_in_df1), len(columns_only_in_df2))\n",
        "data = {\n",
        "    \"colunas em df_alvo apenas\": columns_only_in_df1\n",
        "    + [\"\"] * (max_len - len(columns_only_in_df1)),\n",
        "    \"colunas em df_ref apenas\": columns_only_in_df2\n",
        "    + [\"\"] * (max_len - len(columns_only_in_df2)),\n",
        "}\n",
        "df_differences = pd.DataFrame(data)\n",
        "\n",
        "print(df_alvo.columns)\n",
        "print(df_ref.columns)\n",
        "df_differences"
      ]
    },
    {
      "cell_type": "code",
      "execution_count": null,
      "metadata": {},
      "outputs": [],
      "source": [
        "# converte colunas numéricas\n",
        "for col in df_alvo.columns:\n",
        "    if 'NOTA' in col or 'PESO' in col or \"MEDIA_MINIMA\" in col:\n",
        "        df_alvo[col] = df_alvo[col].astype(str).str.replace(',', '.').astype(float)\n"
      ]
    },
    {
      "cell_type": "code",
      "execution_count": null,
      "metadata": {},
      "outputs": [],
      "source": []
    },
    {
      "cell_type": "code",
      "execution_count": null,
      "metadata": {},
      "outputs": [],
      "source": [
        "# exibe colunas\n",
        "if ano == 2017 and semestre == 1:\n",
        "    df_alvo[\"MATRICULA\"] = ''\n",
        "    \n",
        "df_columns = pd.DataFrame(\n",
        "    {\"df_alvo\": list(df_alvo.columns), \"df_ref\": list(df_ref.columns)}\n",
        ")\n",
        "df_columns\n",
        "    \n"
      ]
    },
    {
      "cell_type": "code",
      "execution_count": null,
      "metadata": {},
      "outputs": [],
      "source": [
        "df_alvo.to_csv(\n",
        "    transformado_path,\n",
        "    sep=\"|\",\n",
        "    encoding=\"utf-8\",\n",
        "    index=False,\n",
        ")"
      ]
    }
  ],
  "metadata": {
    "colab": {
      "provenance": []
    },
    "kernelspec": {
      "display_name": "Python 3",
      "name": "python3"
    },
    "language_info": {
      "codemirror_mode": {
        "name": "ipython",
        "version": 3
      },
      "file_extension": ".py",
      "mimetype": "text/x-python",
      "name": "python",
      "nbconvert_exporter": "python",
      "pygments_lexer": "ipython3",
      "version": "3.10.12"
    }
  },
  "nbformat": 4,
  "nbformat_minor": 0
}
