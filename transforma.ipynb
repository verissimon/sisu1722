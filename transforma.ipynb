{
  "cells": [
    {
      "cell_type": "code",
      "execution_count": null,
      "metadata": {
        "id": "tT1NhQz-joEc"
      },
      "outputs": [],
      "source": [
        "import pandas as pd\n",
        "from util.extract import extract_csv\n",
        "from pathlib import Path\n",
        "\n",
        "etapa = \"chamada_regular\"\n",
        "ano = 2022\n",
        "semestre = 1\n",
        "arquivo_nome = f\"{etapa}_sisu_{ano}_{semestre}.csv\"\n",
        "\n",
        "PATH = Path('./').parent.absolute()\n",
        "arquivo_path = PATH / \"sisu\" / str(ano) / arquivo_nome\n",
        "transformado_path = PATH / \"transformado\" / str(ano) / arquivo_nome\n",
        "nome_tabela = arquivo_nome.replace('sisu_', '').replace('de_', '')\n",
        "print(nome_tabela, \"\\nPATH ALVO: \",transformado_path)\n"
      ]
    },
    {
      "cell_type": "markdown",
      "metadata": {
        "id": "j7e07aIyyBmX"
      },
      "source": [
        "[Dicionário de dados](https://dadosabertos.mec.gov.br/sisu/item/133-dicionario-de-dados)\n",
        "para dataframes recentes.\n"
      ]
    },
    {
      "cell_type": "code",
      "execution_count": null,
      "metadata": {
        "colab": {
          "base_uri": "https://localhost:8080/"
        },
        "id": "qmxrgatgisbv",
        "outputId": "e84dc478-b729-40cd-ab9c-2f09d9dd3687"
      },
      "outputs": [],
      "source": [
        "# dataframe de referencia, leve e com colunas padronizadas:\n",
        "df_ref = pd.read_csv(\n",
        "    PATH / 'reduzido' / 'reduzido_chamada_regular_sisu_2022_1.csv',\n",
        "    sep=\"|\",\n",
        "    encoding=\"latin-1\",\n",
        ")\n"
      ]
    },
    {
      "cell_type": "code",
      "execution_count": null,
      "metadata": {
        "colab": {
          "base_uri": "https://localhost:8080/"
        },
        "id": "k8_QtSNYy2RD",
        "outputId": "37fa5be5-6381-4b88-9e0a-5b5aa72d2d78"
      },
      "outputs": [],
      "source": [
        "try:\n",
        "    df_alvo = extract_csv(ano, etapa, semestre)\n",
        "\n",
        "except Exception as e:\n",
        "    print(e)\n",
        "    \n",
        "df_alvo.shape"
      ]
    },
    {
      "cell_type": "code",
      "execution_count": null,
      "metadata": {},
      "outputs": [],
      "source": [
        "# renomeia colunas\n",
        "new_columns = {col: col.replace(\"NU_\", \"\") for col in df_alvo.columns if \"NU_\" in col}\n",
        "sg__columns = {col: col.replace(\"SG_\", \"\") for col in df_alvo.columns if \"SG_\" in col}\n",
        "st__columns = {col: col.replace(\"ST_\", \"\") for col in df_alvo.columns if \"ST_\" in col}\n",
        "no__columns = {\n",
        "    col: col.replace(\"NO_\", \"NOME_\") for col in df_alvo.columns if \"NO_\" in col\n",
        "}\n",
        "ind_columns = {\n",
        "    \"DT_NASCIMENTO\": \"DATA_NASCIMENTO\",\n",
        "    \"TP_SEXO\": \"SEXO\",\n",
        "    \"TP_MOD_CONCORRENCIA\": \"TIPO_MOD_CONCORRENCIA\",\n",
        "    \"CO_ETAPA\": \"ETAPA\",\n",
        "    \"CAMPUS\": \"NOME_CAMPUS\",\n",
        "    \"CO_CAMPUS\": \"CODIGO_CAMPUS\",\n",
        "    \"CO_IES\": \"CODIGO_IES\",\n",
        "    \"IES\": \"NOME_IES\",\n",
        "    \"CURSO\": \"NOME_CURSO\",\n",
        "    \"CO_IES_CURSO\": \"CODIGO_CURSO\",\n",
        "    \"CO_INSCRICAO_ENEM\": \"INSCRICAO_ENEM\",\n",
        "    \"DS_GRAU\": \"GRAU\",\n",
        "    \"DS_TURNO\": \"TURNO\",\n",
        "    \"DS_MOD_CONCORRENCIA\": \"MOD_CONCORRENCIA\",\n",
        "}\n",
        "\n",
        "l_cols = {\n",
        "    \"NOTACORTE\": \"NOTA_CORTE\",\n",
        "    \"NOME_MUNUCIPIO_CAMPUS\": \"MUNICIPIO_CAMPUS\",\n",
        "    \"NOME_INSCRITO\": \"INSCRITO\",\n",
        "}\n",
        "\n",
        "new_columns.update(sg__columns)\n",
        "new_columns.update(st__columns)\n",
        "new_columns.update(no__columns)\n",
        "new_columns.update(ind_columns)\n",
        "\n",
        "df_alvo = df_alvo.rename(columns=new_columns).copy()\n",
        "df_alvo = df_alvo.rename(columns=l_cols).copy()\n",
        "df_alvo['CLASSIFICACAO'] = df_alvo['CLASSIFICACAO'].fillna(0).astype(float).astype(int)"
      ]
    },
    {
      "cell_type": "code",
      "execution_count": null,
      "metadata": {
        "colab": {
          "base_uri": "https://localhost:8080/"
        },
        "id": "2nHZP7Cv0RwP",
        "outputId": "4cdd6690-cf68-42e5-cc83-17a21e593d6c"
      },
      "outputs": [],
      "source": [
        "# remover colunas diferentes\n",
        "df_alvo = df_alvo.copy().drop([\"PERCENTUAL_BONUS\"], axis=1)\n",
        "\n",
        "cols_to_drop = [\n",
        "    \"DS_PERIODICIDADE\",\n",
        "    \"TP_COTA\",\n",
        "]\n",
        "\n",
        "if df_alvo.shape[1] > 53:\n",
        "    df_alvo = df_alvo.copy().drop(\n",
        "        cols_to_drop,\n",
        "        axis=1,\n",
        "    )\n",
        "\n",
        "print(df_alvo.columns)\n",
        "print(df_ref.columns)\n",
        "# colunas diferentes\n",
        "print(\"shape df_alvo:\", df_alvo.shape)  # 53\n",
        "print(\"shape df_ref:\", df_ref.shape)  # 56\n",
        "# colunas a mais: DS_PERIODICIDADE, TP_COTA, QT_VAGAS_CONCORRENCIA"
      ]
    },
    {
      "cell_type": "code",
      "execution_count": null,
      "metadata": {
        "colab": {
          "base_uri": "https://localhost:8080/",
          "height": 143
        },
        "id": "DayfBAso4DV-",
        "outputId": "56db961f-c75a-44bc-b543-aeb13f5ce979"
      },
      "outputs": [],
      "source": [
        "# verificar se ainda há colunas com nomes diferentes\n",
        "columns_df1 = set(df_alvo.columns)\n",
        "columns_df2 = set(df_ref.columns)\n",
        "\n",
        "columns_only_in_df1 = sorted(list(columns_df1 - columns_df2))\n",
        "\n",
        "columns_only_in_df2 = sorted(list(columns_df2 - columns_df1))\n",
        "\n",
        "max_len = max(len(columns_only_in_df1), len(columns_only_in_df2))\n",
        "data = {\n",
        "    \"colunas em df_alvo apenas\": columns_only_in_df1\n",
        "    + [\"\"] * (max_len - len(columns_only_in_df1)),\n",
        "    \"colunas em df_ref apenas\": columns_only_in_df2\n",
        "    + [\"\"] * (max_len - len(columns_only_in_df2)),\n",
        "}\n",
        "df_differences = pd.DataFrame(data)\n",
        "display(df_differences)"
      ]
    },
    {
      "cell_type": "code",
      "execution_count": null,
      "metadata": {},
      "outputs": [],
      "source": [
        "# converte colunas numéricas\n",
        "for col in df_alvo.columns:\n",
        "    if 'NOTA' in col or 'PESO' in col or \"MEDIA_MINIMA\" in col:\n",
        "        df_alvo[col] = df_alvo[col].astype(str).str.replace(',', '.').astype(float)\n"
      ]
    },
    {
      "cell_type": "code",
      "execution_count": null,
      "metadata": {},
      "outputs": [],
      "source": [
        "# adiciona coluna regiao\n",
        "region_mapping = {\n",
        "    \"AC\": \"Norte\",\n",
        "    \"AL\": \"Nordeste\",\n",
        "    \"AM\": \"Norte\",\n",
        "    \"AP\": \"Norte\",\n",
        "    \"BA\": \"Nordeste\",\n",
        "    \"CE\": \"Nordeste\",\n",
        "    \"DF\": \"Centro-Oeste\",\n",
        "    \"ES\": \"Sudeste\",\n",
        "    \"GO\": \"Centro-Oeste\",\n",
        "    \"MA\": \"Nordeste\",\n",
        "    \"MT\": \"Centro-Oeste\",\n",
        "    \"MS\": \"Centro-Oeste\",\n",
        "    \"MG\": \"Sudeste\",\n",
        "    \"PA\": \"Norte\",\n",
        "    \"PB\": \"Nordeste\",\n",
        "    \"PE\": \"Nordeste\",\n",
        "    \"PI\": \"Nordeste\",\n",
        "    \"PR\": \"Sul\",\n",
        "    \"RJ\": \"Sudeste\",\n",
        "    \"RN\": \"Nordeste\",\n",
        "    \"RR\": \"Norte\",\n",
        "    \"RS\": \"Sul\",\n",
        "    \"SC\": \"Sul\",\n",
        "    \"SE\": \"Nordeste\",\n",
        "    \"SP\": \"Sudeste\",\n",
        "    \"TO\": \"Norte\",\n",
        "    \"RO\": \"Norte\",\n",
        "}\n",
        "columns_reorder = [\n",
        "    \"ANO\",\n",
        "    \"EDICAO\",\n",
        "    \"ETAPA\",\n",
        "    \"DS_ETAPA\",\n",
        "    \"CODIGO_IES\",\n",
        "    \"NOME_IES\",\n",
        "    \"SIGLA_IES\",\n",
        "    \"UF_IES\",\n",
        "    \"CODIGO_CAMPUS\",\n",
        "    \"NOME_CAMPUS\",\n",
        "    \"REGIAO_IES\",  # nova coluna\n",
        "    \"UF_CAMPUS\",\n",
        "    \"MUNICIPIO_CAMPUS\",\n",
        "    \"CODIGO_CURSO\",\n",
        "    \"NOME_CURSO\",\n",
        "    \"GRAU\",\n",
        "    \"TURNO\",\n",
        "    \"TIPO_MOD_CONCORRENCIA\",\n",
        "    \"MOD_CONCORRENCIA\",\n",
        "    \"QT_VAGAS_CONCORRENCIA\", # dado apenas disponivel em 2022\n",
        "    \"PESO_L\",\n",
        "    \"PESO_CH\",\n",
        "    \"PESO_CN\",\n",
        "    \"PESO_M\",\n",
        "    \"PESO_R\",\n",
        "    \"NOTA_MINIMA_L\",\n",
        "    \"NOTA_MINIMA_CH\",\n",
        "    \"NOTA_MINIMA_CN\",\n",
        "    \"NOTA_MINIMA_M\",\n",
        "    \"NOTA_MINIMA_R\",\n",
        "    \"MEDIA_MINIMA\",\n",
        "    \"CPF\",\n",
        "    \"INSCRICAO_ENEM\",\n",
        "    \"INSCRITO\",\n",
        "    \"SEXO\",\n",
        "    \"DATA_NASCIMENTO\",\n",
        "    \"UF_CANDIDATO\",\n",
        "    \"MUNICIPIO_CANDIDATO\",\n",
        "    \"OPCAO\",\n",
        "    \"NOTA_L\",\n",
        "    \"NOTA_CH\",\n",
        "    \"NOTA_CN\",\n",
        "    \"NOTA_M\",\n",
        "    \"NOTA_R\",\n",
        "    \"NOTA_L_COM_PESO\",\n",
        "    \"NOTA_CH_COM_PESO\",\n",
        "    \"NOTA_CN_COM_PESO\",\n",
        "    \"NOTA_M_COM_PESO\",\n",
        "    \"NOTA_R_COM_PESO\",\n",
        "    \"NOTA_CANDIDATO\",\n",
        "    \"NOTA_CORTE\",\n",
        "    \"CLASSIFICACAO\",\n",
        "    \"APROVADO\",\n",
        "    \"MATRICULA\",\n",
        "]\n",
        "\n",
        "df_alvo[\"REGIAO_IES\"] = df_alvo[\"UF_IES\"].map(region_mapping)\n",
        "\n",
        "if ano != 2022:\n",
        "    columns_reorder.remove(\"QT_VAGAS_CONCORRENCIA\")\n",
        "\n",
        "df_alvo = df_alvo.reindex(columns=columns_reorder)"
      ]
    },
    {
      "cell_type": "code",
      "execution_count": null,
      "metadata": {},
      "outputs": [],
      "source": [
        "df_alvo.to_csv(\n",
        "    transformado_path,\n",
        "    sep=\"|\",\n",
        "    encoding=\"utf-8\",\n",
        "    index=False,\n",
        ")"
      ]
    }
  ],
  "metadata": {
    "colab": {
      "provenance": []
    },
    "kernelspec": {
      "display_name": "Python 3",
      "name": "python3"
    },
    "language_info": {
      "codemirror_mode": {
        "name": "ipython",
        "version": 3
      },
      "file_extension": ".py",
      "mimetype": "text/x-python",
      "name": "python",
      "nbconvert_exporter": "python",
      "pygments_lexer": "ipython3",
      "version": "3.12.4"
    }
  },
  "nbformat": 4,
  "nbformat_minor": 0
}
