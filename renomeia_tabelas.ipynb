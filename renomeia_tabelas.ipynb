{
  "cells": [
    {
      "cell_type": "code",
      "execution_count": 1,
      "metadata": {
        "id": "tT1NhQz-joEc"
      },
      "outputs": [],
      "source": [
        "import pandas as pd"
      ]
    },
    {
      "cell_type": "markdown",
      "metadata": {
        "id": "j7e07aIyyBmX"
      },
      "source": [
        "[Dicionário de dados](https://dadosabertos.mec.gov.br/sisu/item/133-dicionario-de-dados)\n",
        "para dataframes recentes.\n"
      ]
    },
    {
      "cell_type": "code",
      "execution_count": 2,
      "metadata": {
        "colab": {
          "base_uri": "https://localhost:8080/"
        },
        "id": "qmxrgatgisbv",
        "outputId": "e84dc478-b729-40cd-ab9c-2f09d9dd3687"
      },
      "outputs": [
        {
          "name": "stderr",
          "output_type": "stream",
          "text": [
            "/tmp/ipykernel_8648/2345439572.py:2: DtypeWarning: Columns (22,23,24,25,26,27,28,29,30,32) have mixed types. Specify dtype option on import or set low_memory=False.\n",
            "  df_le_2022_2 = pd.read_csv('./sisu/2022/lista_de_espera_sisu_2022_2.csv', sep='|', encoding='ISO-8859-1')\n"
          ]
        }
      ],
      "source": [
        "# df_le: dataframe lista de espera (mais recente e mais leve)\n",
        "df_le_2022_2 = pd.read_csv('./sisu/2022/lista_de_espera_sisu_2022_2.csv', sep='|', encoding='ISO-8859-1')"
      ]
    },
    {
      "cell_type": "code",
      "execution_count": 3,
      "metadata": {
        "colab": {
          "base_uri": "https://localhost:8080/"
        },
        "id": "k8_QtSNYy2RD",
        "outputId": "37fa5be5-6381-4b88-9e0a-5b5aa72d2d78"
      },
      "outputs": [
        {
          "name": "stderr",
          "output_type": "stream",
          "text": [
            "/tmp/ipykernel_8648/4085409944.py:2: DtypeWarning: Columns (19,20,21,22,23,47) have mixed types. Specify dtype option on import or set low_memory=False.\n",
            "  df_cr_2017_2 = pd.read_csv('./sisu/2017/chamada_regular_sisu_2017_2.csv', sep=';', encoding='utf-8') # sep diferente\n"
          ]
        }
      ],
      "source": [
        "# mais antigo e mais leve\n",
        "df_cr_2017_2 = pd.read_csv('./sisu/2017/chamada_regular_sisu_2017_2.csv', sep=';', encoding='utf-8') # sep diferente"
      ]
    },
    {
      "cell_type": "code",
      "execution_count": 4,
      "metadata": {
        "colab": {
          "base_uri": "https://localhost:8080/"
        },
        "id": "2nHZP7Cv0RwP",
        "outputId": "4cdd6690-cf68-42e5-cc83-17a21e593d6c"
      },
      "outputs": [
        {
          "name": "stdout",
          "output_type": "stream",
          "text": [
            "Index(['NU_ANO', 'NU_EDICAO', 'CO_ETAPA', 'DS_ETAPA', 'CO_IES', 'NO_IES',\n",
            "       'SIGLA_IES', 'SG_UF_IES', 'CO_CAMPUS', 'NO_CAMPUS', 'SG_UF_CAMPUS',\n",
            "       'NO_MUNUCIPIO_CAMPUS', 'CO_IES_CURSO', 'NO_CURSO', 'DS_GRAU',\n",
            "       'DS_TURNO', 'TP_MOD_CONCORRENCIA', 'DS_MOD_CONCORRENCIA',\n",
            "       'NU_PERCENTUAL_BONUS', 'NU_PESO_L', 'NU_PESO_CH', 'NU_PESO_CN',\n",
            "       'NU_PESO_M', 'NU_PESO_R', 'NOTA_MINIMA_L', 'NOTA_MINIMA_CH',\n",
            "       'NOTA_MINIMA_CN', 'NOTA_MINIMA_M', 'NOTA_MINIMA_R', 'MEDIA_MINIMA',\n",
            "       'NU_CPF', 'CO_INSCRICAO_ENEM', 'NO_INSCRITO', 'TP_SEXO',\n",
            "       'DT_NASCIMENTO', 'SG_UF_CANDIDATO', 'MUNICIPIO_CANDIDATO', 'ST_OPCAO',\n",
            "       'NU_NOTA_L', 'NU_NOTA_CH', 'NU_NOTA_CN', 'NU_NOTA_M', 'NU_NOTA_R',\n",
            "       'NOTA_L_COM_PESO', 'NOTA_CH_COM_PESO', 'NOTA_CN_COM_PESO',\n",
            "       'NOTA_M_COM_PESO', 'NOTA_R_COM_PESO', 'NU_NOTA_CANDIDATO',\n",
            "       'NU_NOTACORTE', 'NU_CLASSIFICACAO', 'ST_APROVADO', 'ST_MATRICULA'],\n",
            "      dtype='object')\n",
            "Index(['ANO', 'EDICAO', 'ETAPA', 'DS_ETAPA', 'CODIGO_IES', 'NOME_IES',\n",
            "       'SIGLA_IES', 'UF_IES', 'CODIGO_CAMPUS', 'NOME_CAMPUS', 'UF_CAMPUS',\n",
            "       'MUNICIPIO_CAMPUS', 'CODIGO_CURSO', 'NOME_CURSO', 'GRAU', 'TURNO',\n",
            "       'DS_PERIODICIDADE', 'TP_COTA', 'TIPO_MOD_CONCORRENCIA',\n",
            "       'MOD_CONCORRENCIA', 'QT_VAGAS_CONCORRENCIA', 'PERCENTUAL_BONUS',\n",
            "       'PESO_L', 'PESO_CH', 'PESO_CN', 'PESO_M', 'PESO_R', 'NOTA_MINIMA_L',\n",
            "       'NOTA_MINIMA_CH', 'NOTA_MINIMA_CN', 'NOTA_MINIMA_M', 'NOTA_MINIMA_R',\n",
            "       'MEDIA_MINIMA', 'CPF', 'INSCRICAO_ENEM', 'INSCRITO', 'SEXO',\n",
            "       'DATA_NASCIMENTO', 'UF_CANDIDATO', 'MUNICIPIO_CANDIDATO', 'OPCAO',\n",
            "       'NOTA_L', 'NOTA_CH', 'NOTA_CN', 'NOTA_M', 'NOTA_R', 'NOTA_L_COM_PESO',\n",
            "       'NOTA_CH_COM_PESO', 'NOTA_CN_COM_PESO', 'NOTA_M_COM_PESO',\n",
            "       'NOTA_R_COM_PESO', 'NOTA_CANDIDATO', 'NOTA_CORTE', 'CLASSIFICACAO',\n",
            "       'APROVADO', 'MATRICULA'],\n",
            "      dtype='object')\n",
            "shape df_le_2017_2: (1797386, 53)\n",
            "shape df_le_2022_2: (184207, 56)\n"
          ]
        }
      ],
      "source": [
        "print(df_cr_2017_2.columns)\n",
        "print(df_le_2022_2.columns)\n",
        "# colunas diferentes\n",
        "print(\"shape df_le_2017_2:\", df_cr_2017_2.shape) # 53\n",
        "print(\"shape df_le_2022_2:\", df_le_2022_2.shape) # 56\n",
        "# colunas a mais: DS_PERIODICIDADE, TP_COTA, QT_VAGAS_CONCORRENCIA"
      ]
    },
    {
      "cell_type": "code",
      "execution_count": 5,
      "metadata": {
        "id": "Ggxn-3bD_QPH"
      },
      "outputs": [],
      "source": [
        "# renomeia colunas\n",
        "new_columns = {col: col.replace('NU_', '') for col in df_cr_2017_2.columns if 'NU_' in col}\n",
        "sg__columns = {col: col.replace('SG_', '') for col in df_cr_2017_2.columns if 'SG_' in col}\n",
        "st__columns = {col: col.replace('ST_', '') for col in df_cr_2017_2.columns if 'ST_' in col}\n",
        "no__columns = {col: col.replace('NO_', 'NOME_') for col in df_cr_2017_2.columns if 'NO_' in col}\n",
        "ind_columns = {\n",
        "    'DT_NASCIMENTO': 'DATA_NASCIMENTO',\n",
        "    'TP_SEXO': 'SEXO',\n",
        "    'TP_MOD_CONCORRENCIA': 'TIPO_MOD_CONCORRENCIA',\n",
        "    'CO_ETAPA': 'ETAPA',\n",
        "    'CAMPUS': 'NOME_CAMPUS',\n",
        "    'CO_CAMPUS': 'CODIGO_CAMPUS',\n",
        "    'CO_IES': 'CODIGO_IES',\n",
        "    'IES': 'NOME_IES',\n",
        "    'CURSO': 'NOME_CURSO',\n",
        "    'CO_IES_CURSO': 'CODIGO_CURSO',\n",
        "    'CO_INSCRICAO_ENEM': 'INSCRICAO_ENEM',\n",
        "    'DS_GRAU': 'GRAU',\n",
        "    'DS_TURNO': 'TURNO',\n",
        "    'DS_MOD_CONCORRENCIA': 'MOD_CONCORRENCIA',\n",
        "    }\n",
        "\n",
        "l_cols = {'NOTACORTE': 'NOTA_CORTE',\n",
        "    'NOME_MUNUCIPIO_CAMPUS': 'MUNICIPIO_CAMPUS',\n",
        "    'NOME_INSCRITO': 'INSCRITO'}\n",
        "\n",
        "new_columns.update(sg__columns)\n",
        "new_columns.update(st__columns)\n",
        "new_columns.update(no__columns)\n",
        "new_columns.update(ind_columns)\n",
        "\n",
        "df_cr_2017_2 = df_cr_2017_2.rename(columns=new_columns).copy()\n",
        "df_cr_2017_2 = df_cr_2017_2.rename(columns=l_cols).copy()"
      ]
    },
    {
      "cell_type": "code",
      "execution_count": 6,
      "metadata": {
        "colab": {
          "base_uri": "https://localhost:8080/",
          "height": 143
        },
        "id": "DayfBAso4DV-",
        "outputId": "56db961f-c75a-44bc-b543-aeb13f5ce979"
      },
      "outputs": [
        {
          "name": "stdout",
          "output_type": "stream",
          "text": [
            "Index(['ANO', 'EDICAO', 'ETAPA', 'DS_ETAPA', 'CODIGO_IES', 'NOME_IES',\n",
            "       'SIGLA_IES', 'UF_IES', 'CODIGO_CAMPUS', 'NOME_CAMPUS', 'UF_CAMPUS',\n",
            "       'MUNICIPIO_CAMPUS', 'CODIGO_CURSO', 'NOME_CURSO', 'GRAU', 'TURNO',\n",
            "       'TIPO_MOD_CONCORRENCIA', 'MOD_CONCORRENCIA', 'PERCENTUAL_BONUS',\n",
            "       'PESO_L', 'PESO_CH', 'PESO_CN', 'PESO_M', 'PESO_R', 'NOTA_MINIMA_L',\n",
            "       'NOTA_MINIMA_CH', 'NOTA_MINIMA_CN', 'NOTA_MINIMA_M', 'NOTA_MINIMA_R',\n",
            "       'MEDIA_MINIMA', 'CPF', 'INSCRICAO_ENEM', 'INSCRITO', 'SEXO',\n",
            "       'DATA_NASCIMENTO', 'UF_CANDIDATO', 'MUNICIPIO_CANDIDATO', 'OPCAO',\n",
            "       'NOTA_L', 'NOTA_CH', 'NOTA_CN', 'NOTA_M', 'NOTA_R', 'NOTA_L_COM_PESO',\n",
            "       'NOTA_CH_COM_PESO', 'NOTA_CN_COM_PESO', 'NOTA_M_COM_PESO',\n",
            "       'NOTA_R_COM_PESO', 'NOTA_CANDIDATO', 'NOTA_CORTE', 'CLASSIFICACAO',\n",
            "       'APROVADO', 'MATRICULA'],\n",
            "      dtype='object')\n",
            "Index(['ANO', 'EDICAO', 'ETAPA', 'DS_ETAPA', 'CODIGO_IES', 'NOME_IES',\n",
            "       'SIGLA_IES', 'UF_IES', 'CODIGO_CAMPUS', 'NOME_CAMPUS', 'UF_CAMPUS',\n",
            "       'MUNICIPIO_CAMPUS', 'CODIGO_CURSO', 'NOME_CURSO', 'GRAU', 'TURNO',\n",
            "       'DS_PERIODICIDADE', 'TP_COTA', 'TIPO_MOD_CONCORRENCIA',\n",
            "       'MOD_CONCORRENCIA', 'QT_VAGAS_CONCORRENCIA', 'PERCENTUAL_BONUS',\n",
            "       'PESO_L', 'PESO_CH', 'PESO_CN', 'PESO_M', 'PESO_R', 'NOTA_MINIMA_L',\n",
            "       'NOTA_MINIMA_CH', 'NOTA_MINIMA_CN', 'NOTA_MINIMA_M', 'NOTA_MINIMA_R',\n",
            "       'MEDIA_MINIMA', 'CPF', 'INSCRICAO_ENEM', 'INSCRITO', 'SEXO',\n",
            "       'DATA_NASCIMENTO', 'UF_CANDIDATO', 'MUNICIPIO_CANDIDATO', 'OPCAO',\n",
            "       'NOTA_L', 'NOTA_CH', 'NOTA_CN', 'NOTA_M', 'NOTA_R', 'NOTA_L_COM_PESO',\n",
            "       'NOTA_CH_COM_PESO', 'NOTA_CN_COM_PESO', 'NOTA_M_COM_PESO',\n",
            "       'NOTA_R_COM_PESO', 'NOTA_CANDIDATO', 'NOTA_CORTE', 'CLASSIFICACAO',\n",
            "       'APROVADO', 'MATRICULA'],\n",
            "      dtype='object')\n"
          ]
        },
        {
          "data": {
            "text/html": [
              "<div>\n",
              "<style scoped>\n",
              "    .dataframe tbody tr th:only-of-type {\n",
              "        vertical-align: middle;\n",
              "    }\n",
              "\n",
              "    .dataframe tbody tr th {\n",
              "        vertical-align: top;\n",
              "    }\n",
              "\n",
              "    .dataframe thead th {\n",
              "        text-align: right;\n",
              "    }\n",
              "</style>\n",
              "<table border=\"1\" class=\"dataframe\">\n",
              "  <thead>\n",
              "    <tr style=\"text-align: right;\">\n",
              "      <th></th>\n",
              "      <th>colunas em le_2017_2 apenas</th>\n",
              "      <th>colunas em le_2022_2 apenas</th>\n",
              "    </tr>\n",
              "  </thead>\n",
              "  <tbody>\n",
              "    <tr>\n",
              "      <th>0</th>\n",
              "      <td></td>\n",
              "      <td>DS_PERIODICIDADE</td>\n",
              "    </tr>\n",
              "    <tr>\n",
              "      <th>1</th>\n",
              "      <td></td>\n",
              "      <td>QT_VAGAS_CONCORRENCIA</td>\n",
              "    </tr>\n",
              "    <tr>\n",
              "      <th>2</th>\n",
              "      <td></td>\n",
              "      <td>TP_COTA</td>\n",
              "    </tr>\n",
              "  </tbody>\n",
              "</table>\n",
              "</div>"
            ],
            "text/plain": [
              "  colunas em le_2017_2 apenas colunas em le_2022_2 apenas\n",
              "0                                        DS_PERIODICIDADE\n",
              "1                                   QT_VAGAS_CONCORRENCIA\n",
              "2                                                 TP_COTA"
            ]
          },
          "execution_count": 6,
          "metadata": {},
          "output_type": "execute_result"
        }
      ],
      "source": [
        "# verificar se ainda há colunas com nomes diferentes\n",
        "columns_df1 = set(df_cr_2017_2.columns)\n",
        "columns_df2 = set(df_le_2022_2.columns)\n",
        "\n",
        "columns_only_in_df1 = sorted(list(columns_df1 - columns_df2))\n",
        "\n",
        "columns_only_in_df2 = sorted(list(columns_df2 - columns_df1))\n",
        "\n",
        "max_len = max(len(columns_only_in_df1), len(columns_only_in_df2))\n",
        "data = {'colunas em le_2017_2 apenas': columns_only_in_df1 + [''] * (max_len - len(columns_only_in_df1)),\n",
        "        'colunas em le_2022_2 apenas': columns_only_in_df2 + [''] * (max_len - len(columns_only_in_df2))}\n",
        "df_differences = pd.DataFrame(data)\n",
        "\n",
        "print(df_cr_2017_2.columns)\n",
        "print(df_le_2022_2.columns)\n",
        "df_differences"
      ]
    },
    {
      "cell_type": "code",
      "execution_count": 15,
      "metadata": {},
      "outputs": [
        {
          "name": "stdout",
          "output_type": "stream",
          "text": [
            "             df_cr_2017_2           df_le_2022_2\n",
            "0                     ANO                    ANO\n",
            "1                  EDICAO                 EDICAO\n",
            "2                   ETAPA                  ETAPA\n",
            "3                DS_ETAPA               DS_ETAPA\n",
            "4              CODIGO_IES             CODIGO_IES\n",
            "5                NOME_IES               NOME_IES\n",
            "6               SIGLA_IES              SIGLA_IES\n",
            "7                  UF_IES                 UF_IES\n",
            "8           CODIGO_CAMPUS          CODIGO_CAMPUS\n",
            "9             NOME_CAMPUS            NOME_CAMPUS\n",
            "10              UF_CAMPUS              UF_CAMPUS\n",
            "11       MUNICIPIO_CAMPUS       MUNICIPIO_CAMPUS\n",
            "12           CODIGO_CURSO           CODIGO_CURSO\n",
            "13             NOME_CURSO             NOME_CURSO\n",
            "14                   GRAU                   GRAU\n",
            "15                  TURNO                  TURNO\n",
            "16  TIPO_MOD_CONCORRENCIA  TIPO_MOD_CONCORRENCIA\n",
            "17       MOD_CONCORRENCIA       MOD_CONCORRENCIA\n",
            "18       PERCENTUAL_BONUS       PERCENTUAL_BONUS\n",
            "19                 PESO_L                 PESO_L\n",
            "20                PESO_CH                PESO_CH\n",
            "21                PESO_CN                PESO_CN\n",
            "22                 PESO_M                 PESO_M\n",
            "23                 PESO_R                 PESO_R\n",
            "24          NOTA_MINIMA_L          NOTA_MINIMA_L\n",
            "25         NOTA_MINIMA_CH         NOTA_MINIMA_CH\n",
            "26         NOTA_MINIMA_CN         NOTA_MINIMA_CN\n",
            "27          NOTA_MINIMA_M          NOTA_MINIMA_M\n",
            "28          NOTA_MINIMA_R          NOTA_MINIMA_R\n",
            "29           MEDIA_MINIMA           MEDIA_MINIMA\n",
            "30                    CPF                    CPF\n",
            "31         INSCRICAO_ENEM         INSCRICAO_ENEM\n",
            "32               INSCRITO               INSCRITO\n",
            "33                   SEXO                   SEXO\n",
            "34        DATA_NASCIMENTO        DATA_NASCIMENTO\n",
            "35           UF_CANDIDATO           UF_CANDIDATO\n",
            "36    MUNICIPIO_CANDIDATO    MUNICIPIO_CANDIDATO\n",
            "37                  OPCAO                  OPCAO\n",
            "38                 NOTA_L                 NOTA_L\n",
            "39                NOTA_CH                NOTA_CH\n",
            "40                NOTA_CN                NOTA_CN\n",
            "41                 NOTA_M                 NOTA_M\n",
            "42                 NOTA_R                 NOTA_R\n",
            "43        NOTA_L_COM_PESO        NOTA_L_COM_PESO\n",
            "44       NOTA_CH_COM_PESO       NOTA_CH_COM_PESO\n",
            "45       NOTA_CN_COM_PESO       NOTA_CN_COM_PESO\n",
            "46        NOTA_M_COM_PESO        NOTA_M_COM_PESO\n",
            "47        NOTA_R_COM_PESO        NOTA_R_COM_PESO\n",
            "48         NOTA_CANDIDATO         NOTA_CANDIDATO\n",
            "49             NOTA_CORTE             NOTA_CORTE\n",
            "50          CLASSIFICACAO          CLASSIFICACAO\n",
            "51               APROVADO               APROVADO\n",
            "52              MATRICULA              MATRICULA\n"
          ]
        }
      ],
      "source": [
        "# dropar colunas que não estão em comum\n",
        "df_le_2022_2_trim = df_le_2022_2.copy().drop(['DS_PERIODICIDADE', 'QT_VAGAS_CONCORRENCIA', 'TP_COTA'], axis=1)\n",
        "\n",
        "df_columns = pd.DataFrame({'df_cr_2017_2': list(df_cr_2017_2.columns), 'df_le_2022_2': list(df_le_2022_2_trim.columns)})\n",
        "\n",
        "print(df_columns)\n"
      ]
    }
  ],
  "metadata": {
    "colab": {
      "provenance": []
    },
    "kernelspec": {
      "display_name": "Python 3",
      "name": "python3"
    },
    "language_info": {
      "codemirror_mode": {
        "name": "ipython",
        "version": 3
      },
      "file_extension": ".py",
      "mimetype": "text/x-python",
      "name": "python",
      "nbconvert_exporter": "python",
      "pygments_lexer": "ipython3",
      "version": "3.10.12"
    }
  },
  "nbformat": 4,
  "nbformat_minor": 0
}
