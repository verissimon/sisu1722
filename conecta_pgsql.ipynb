{
 "cells": [
  {
   "cell_type": "code",
   "execution_count": 1,
   "metadata": {},
   "outputs": [],
   "source": [
    "import os\n",
    "import psycopg2\n",
    "import csv\n",
    "# import pandas as pd "
   ]
  },
  {
   "cell_type": "code",
   "execution_count": 2,
   "metadata": {},
   "outputs": [],
   "source": [
    "# conectar banco de dados\n",
    "USERNAME = os.environ.get('DB_USERNAME')\n",
    "PASSWORD = os.environ.get('DB_PASSWORD')\n",
    "DB_NOME = os.environ.get('DB_NAME')\n"
   ]
  },
  {
   "cell_type": "code",
   "execution_count": 7,
   "metadata": {},
   "outputs": [],
   "source": [
    "ano = \"2022\"\n",
    "arquivo_nome = f\"chamada_regular_sisu_{ano}_1\"\n",
    "arquivo_path = f'./sisu/{ano}/{arquivo_nome}.csv'\n",
    "nome_tabela = arquivo_nome.replace('sisu_', '')"
   ]
  },
  {
   "cell_type": "code",
   "execution_count": 4,
   "metadata": {},
   "outputs": [],
   "source": [
    "# criar tabela no banco de dados\n",
    "# from sqlalchemy import create_engine \n",
    "# data = pd.read_csv(arquivo_path, sep='|', encoding='ISO-8859-1')\n",
    "# lento e cria tabelas automaticamente. útil para datasets pequenos\n",
    "# data.to_sql(nome_tabela, engine, if_exists='replace', index=False)\n",
    "# engine.dispose()"
   ]
  },
  {
   "cell_type": "code",
   "execution_count": 17,
   "metadata": {},
   "outputs": [],
   "source": [
    " \n",
    "conn = psycopg2.connect(database=DB_NOME, user=USERNAME, password=PASSWORD, host=\"localhost\", port=\"5432\")\n",
    "cur = conn.cursor()\n",
    "\n",
    "# tabela tem que ser criada antes\n",
    "\n",
    "## criar tabela | ISO-8859-1\n",
    "# with open(arquivo_path, 'r', encoding='ISO-8859-1') as f:\n",
    "#     reader = csv.reader(f, delimiter='|')\n",
    "#     next(reader)  \n",
    "#     cur.copy_expert(f\"COPY {nome_tabela} FROM STDIN CSV DELIMITER '|' NULL AS ''\", f)\n",
    "\n",
    "## criar tabela ; utf-8\n",
    "with open(arquivo_path, 'r', encoding='utf-8') as f:\n",
    "    reader = csv.reader(f, delimiter=';')\n",
    "    next(reader)  \n",
    "    cur.copy_expert(f\"COPY {nome_tabela} FROM STDIN CSV DELIMITER ';' NULL AS ''\", f)\n",
    "\n",
    "\n",
    "conn.commit()\n",
    "conn.close()"
   ]
  }
 ],
 "metadata": {
  "kernelspec": {
   "display_name": ".venv",
   "language": "python",
   "name": "python3"
  },
  "language_info": {
   "codemirror_mode": {
    "name": "ipython",
    "version": 3
   },
   "file_extension": ".py",
   "mimetype": "text/x-python",
   "name": "python",
   "nbconvert_exporter": "python",
   "pygments_lexer": "ipython3",
   "version": "3.10.12"
  }
 },
 "nbformat": 4,
 "nbformat_minor": 2
}
