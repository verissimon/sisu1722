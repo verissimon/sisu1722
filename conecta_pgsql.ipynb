{
 "cells": [
  {
   "cell_type": "code",
   "execution_count": 1,
   "metadata": {},
   "outputs": [
    {
     "name": "stdout",
     "output_type": "stream",
     "text": [
      "NOME TABELA chamada_regular_2017_1 \n",
      "PATH ALVO:  ./transformado/2017/chamada_regular_sisu_2017_1.csv \n",
      "\n"
     ]
    }
   ],
   "source": [
    "import os\n",
    "import psycopg2\n",
    "import csv\n",
    "# conectar banco de dados\n",
    "\n",
    "USERNAME = os.environ.get(\"DB_USERNAME\")\n",
    "PASSWORD = os.environ.get(\"DB_PASSWORD\")\n",
    "DB_NOME = os.environ.get(\"DB_NAME\")\n",
    "\n",
    "etapa = \"chamada_regular\"\n",
    "# etapa = \"lista_de_espera\"\n",
    "ano = 2017\n",
    "semestre = 1\n",
    "arquivo_nome = f\"{etapa}_sisu_{ano}_{semestre}\"\n",
    "transformado_path = f'./transformado/{ano}/{arquivo_nome}.csv'\n",
    "nome_tabela = arquivo_nome.replace('sisu_', '').replace('de_', '')\n",
    "print(\"NOME TABELA\", nome_tabela, \"\\nPATH ALVO: \", transformado_path, \"\\n\")"
   ]
  },
  {
   "cell_type": "code",
   "execution_count": 2,
   "metadata": {},
   "outputs": [],
   "source": [
    "conn = psycopg2.connect(\n",
    "    database=DB_NOME, user=USERNAME, password=PASSWORD, host=\"localhost\", port=\"5432\"\n",
    ")\n",
    "cur = conn.cursor()\n",
    "\n",
    "# tabela tem que ser criada antes\n",
    "\n",
    "## criar tabela ; utf-8\n",
    "try:\n",
    "    with open(transformado_path, \"r\", encoding=\"utf-8\") as f:\n",
    "        reader = csv.reader(f, delimiter=\"|\")\n",
    "        next(reader)\n",
    "        cur.copy_expert(f\"COPY {nome_tabela} FROM STDIN CSV DELIMITER '|' NULL AS ''\", f)\n",
    "\n",
    "    conn.commit()\n",
    "except Exception as e:\n",
    "    print(e)\n",
    "finally:\n",
    "    cur.close()\n",
    "    conn.close()"
   ]
  }
 ],
 "metadata": {
  "kernelspec": {
   "display_name": ".venv",
   "language": "python",
   "name": "python3"
  },
  "language_info": {
   "codemirror_mode": {
    "name": "ipython",
    "version": 3
   },
   "file_extension": ".py",
   "mimetype": "text/x-python",
   "name": "python",
   "nbconvert_exporter": "python",
   "pygments_lexer": "ipython3",
   "version": "3.10.12"
  }
 },
 "nbformat": 4,
 "nbformat_minor": 2
}
